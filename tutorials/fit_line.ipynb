{
 "cells": [
  {
   "cell_type": "code",
   "execution_count": null,
   "id": "3bba25b1",
   "metadata": {},
   "outputs": [],
   "source": [
    "from collections import OrderedDict\n",
    "\n",
    "import arviz as az\n",
    "import corner\n",
    "import matplotlib.pyplot as plt\n",
    "import numpy as np\n",
    "from numpy.typing import ArrayLike, NDArray\n",
    "\n",
    "import simple.distributions as sdist\n",
    "import simple.model as sm"
   ]
  },
  {
   "cell_type": "code",
   "execution_count": null,
   "id": "2e22781e",
   "metadata": {},
   "outputs": [],
   "source": [
    "rng = np.random.default_rng(123)\n",
    "\n",
    "x = np.sort(10 * rng.random(100))\n",
    "m_true = 1.0\n",
    "b_true = 0.0\n",
    "truths = {\"m\": m_true, \"b\": b_true, \"sigma\": None}\n",
    "y_true = m_true * x + b_true\n",
    "yerr = 0.1 + 0.5 * rng.random(x.size)\n",
    "y = y_true + 2 * yerr * rng.normal(size=x.size)"
   ]
  },
  {
   "cell_type": "code",
   "execution_count": null,
   "id": "99cfe992",
   "metadata": {},
   "outputs": [],
   "source": [
    "ax = plt.gca()\n",
    "ax.plot(x, y_true, label=\"True signal\")\n",
    "ax.errorbar(x, y, yerr=yerr, fmt=\"k.\", capsize=2, label=\"Simulated data\")\n",
    "ax.set_ylabel(\"y\")\n",
    "ax.set_xlabel(\"x\")\n",
    "plt.legend()\n",
    "plt.show()"
   ]
  },
  {
   "cell_type": "code",
   "execution_count": null,
   "id": "cf4e6185",
   "metadata": {},
   "outputs": [],
   "source": [
    "def gaussian(y, mu, sigma):\n",
    "    return -0.5 * np.sum(((y - mu) / sigma) ** 2 + np.log(2 * np.pi * sigma**2))"
   ]
  },
  {
   "cell_type": "code",
   "execution_count": null,
   "id": "370f0b56",
   "metadata": {},
   "outputs": [],
   "source": [
    "def forward_model(theta: ArrayLike, x: NDArray) -> NDArray:\n",
    "    m, b = theta[:2]\n",
    "    return m * x + b\n",
    "\n",
    "\n",
    "def gaussian_log_likelihood(\n",
    "    theta: ArrayLike,\n",
    "    y: ArrayLike,\n",
    "    yerr: ArrayLike,\n",
    "    model: ArrayLike,\n",
    "    *args,\n",
    "    **kwargs,\n",
    ") -> float:\n",
    "    mu = model(theta, *args, **kwargs)\n",
    "\n",
    "    jitter = theta[-1]\n",
    "    sigma = np.sqrt(yerr**2 + jitter**2)\n",
    "\n",
    "    return gaussian(mu, y, sigma)\n",
    "\n",
    "\n",
    "parameters = OrderedDict(\n",
    "    {\n",
    "        # TODO: Change distributions for m and sigma\n",
    "        \"m\": sdist.Uniform(low=-2.0, high=2.0),\n",
    "        \"b\": sdist.Uniform(low=-40.0, high=40.0),\n",
    "        \"sigma\": sdist.Uniform(low=0.0, high=10.0),\n",
    "    }\n",
    ")\n",
    "mymodel = sm.Model()\n",
    "mymodel.parameters = parameters\n",
    "mymodel.forward_model = forward_model\n",
    "mymodel.log_likelihood = gaussian_log_likelihood"
   ]
  },
  {
   "cell_type": "code",
   "execution_count": null,
   "id": "e96dc3a2",
   "metadata": {},
   "outputs": [],
   "source": [
    "prior_samples = mymodel.sample_prior(x, size=1000)\n",
    "param_names = list(parameters.keys())\n",
    "param_samples = {p: prior_samples[p] for p in param_names}\n",
    "converted_prior_samples = {\n",
    "    f\"{p}\": np.expand_dims(prior_samples[p], axis=0) for p in prior_samples\n",
    "}\n",
    "prior_inf_data = az.from_dict(converted_prior_samples)"
   ]
  },
  {
   "cell_type": "code",
   "execution_count": null,
   "id": "731c6a44",
   "metadata": {},
   "outputs": [],
   "source": [
    "corner.corner(prior_inf_data, var_names=\"~model\")\n",
    "plt.show()"
   ]
  },
  {
   "cell_type": "code",
   "execution_count": null,
   "id": "d2aff66c",
   "metadata": {},
   "outputs": [],
   "source": [
    "ax = plt.gca()\n",
    "ax.plot(x, y_true, label=\"True signal\")\n",
    "# Slightly higher alpha on first sample for plotting\n",
    "ax.plot(x, prior_samples[\"model\"][0], color=\"C1\", alpha=0.5, label=\"Prior samples\")\n",
    "ax.plot(x, prior_samples[\"model\"][1:].T, color=\"C1\", alpha=0.1)\n",
    "ax.errorbar(x, y, yerr=yerr, fmt=\"k.\", capsize=2, label=\"Simulated data\")\n",
    "ax.set_ylabel(\"y\")\n",
    "ax.set_xlabel(\"x\")\n",
    "plt.legend()\n",
    "plt.show()\n",
    "plt.show()"
   ]
  },
  {
   "cell_type": "code",
   "execution_count": null,
   "id": "fd08c86a",
   "metadata": {},
   "outputs": [],
   "source": [
    "test_point = np.array([0.2, -5.0, 1.0])\n",
    "mymodel.log_prob([0.0, 1.0], y, yerr, mymodel.forward_model, x)"
   ]
  },
  {
   "cell_type": "code",
   "execution_count": null,
   "id": "8f2d8edb",
   "metadata": {},
   "outputs": [],
   "source": [
    "ax = plt.gca()\n",
    "ax.plot(x, y_true, label=\"True signal\")\n",
    "ax.plot(x, mymodel.forward_model(test_point, x), label=\"Test model\")\n",
    "ax.errorbar(x, y, yerr=yerr, fmt=\"k.\", capsize=2, label=\"Simulated data\")\n",
    "ax.set_ylabel(\"y\")\n",
    "ax.set_xlabel(\"x\")\n",
    "plt.legend()\n",
    "plt.show()"
   ]
  },
  {
   "cell_type": "code",
   "execution_count": null,
   "id": "8ec058f1",
   "metadata": {},
   "outputs": [],
   "source": [
    "import emcee\n",
    "\n",
    "nwalkers, ndim = 32, len(test_point)\n",
    "num_steps = 10_000\n",
    "num_warmup = 200\n",
    "pos = test_point + 1e-4 * rng.standard_normal((nwalkers, ndim))\n",
    "\n",
    "sampler = emcee.EnsembleSampler(\n",
    "    nwalkers, ndim, mymodel.log_prob, args=(y, yerr, mymodel.forward_model, x)\n",
    ")\n",
    "sampler.run_mcmc(pos, num_steps, progress=True)"
   ]
  },
  {
   "cell_type": "code",
   "execution_count": null,
   "id": "9e7f8880",
   "metadata": {},
   "outputs": [],
   "source": [
    "samples = sampler.get_chain(discard=num_warmup)"
   ]
  },
  {
   "cell_type": "code",
   "execution_count": null,
   "id": "dca44d8a",
   "metadata": {},
   "outputs": [],
   "source": [
    "fig, axes = plt.subplots(3, figsize=(10, 7), sharex=True)\n",
    "# TODO: method to access names\n",
    "labels = list(mymodel.parameters.keys())\n",
    "for i in range(ndim):\n",
    "    ax = axes[i]\n",
    "    ax.plot(samples[:, :, i], \"k\", alpha=0.3)\n",
    "    ax.set_xlim(0, len(samples))\n",
    "    ax.set_ylabel(labels[i])\n",
    "    ax.yaxis.set_label_coords(-0.1, 0.5)\n",
    "axes[-1].set_xlabel(\"step number\")\n",
    "plt.show()"
   ]
  },
  {
   "cell_type": "code",
   "execution_count": null,
   "id": "a2b409ad",
   "metadata": {},
   "outputs": [],
   "source": [
    "inf_data = az.from_emcee(sampler, var_names=labels)\n",
    "inf_data = inf_data.sel(draw=slice(num_warmup, None))"
   ]
  },
  {
   "cell_type": "code",
   "execution_count": null,
   "id": "d27ae4dd",
   "metadata": {},
   "outputs": [],
   "source": [
    "az.summary(inf_data)"
   ]
  },
  {
   "cell_type": "code",
   "execution_count": null,
   "id": "0f6b5af6",
   "metadata": {},
   "outputs": [],
   "source": [
    "az.plot_trace(inf_data)\n",
    "plt.show()"
   ]
  },
  {
   "cell_type": "code",
   "execution_count": null,
   "id": "a17767de",
   "metadata": {},
   "outputs": [],
   "source": [
    "corner.corner(inf_data, var_names=labels, show_titles=True, truths=truths)\n",
    "plt.show()"
   ]
  },
  {
   "cell_type": "code",
   "execution_count": null,
   "id": "ca923660",
   "metadata": {},
   "outputs": [],
   "source": [
    "import dynesty\n",
    "\n",
    "sampler = dynesty.NestedSampler(\n",
    "    mymodel.log_likelihood,\n",
    "    mymodel.prior_transform,\n",
    "    len(mymodel.parameters),\n",
    "    logl_args=(y, yerr, mymodel.forward_model, x),\n",
    ")\n",
    "\n",
    "dsampler = dynesty.DynamicNestedSampler(\n",
    "    mymodel.log_likelihood,\n",
    "    mymodel.prior_transform,\n",
    "    len(mymodel.parameters),\n",
    "    logl_args=(y, yerr, mymodel.forward_model, x),\n",
    ")"
   ]
  },
  {
   "cell_type": "code",
   "execution_count": null,
   "id": "2292d037",
   "metadata": {},
   "outputs": [],
   "source": [
    "sampler.run_nested()"
   ]
  },
  {
   "cell_type": "code",
   "execution_count": null,
   "id": "af07c1c9",
   "metadata": {},
   "outputs": [],
   "source": [
    "dsampler.run_nested()"
   ]
  },
  {
   "cell_type": "code",
   "execution_count": null,
   "id": "6ab64c7a",
   "metadata": {},
   "outputs": [],
   "source": [
    "from dynesty import plotting as dyplot\n",
    "\n",
    "dyplot.traceplot(sampler.results)\n",
    "plt.show()"
   ]
  },
  {
   "cell_type": "code",
   "execution_count": null,
   "id": "55341051",
   "metadata": {},
   "outputs": [],
   "source": [
    "dyplot.runplot(sampler.results, logplot=True)\n",
    "plt.show()"
   ]
  },
  {
   "cell_type": "code",
   "execution_count": null,
   "id": "35c930a5",
   "metadata": {},
   "outputs": [],
   "source": [
    "dyplot.cornerplot(sampler.results)\n",
    "plt.show()"
   ]
  },
  {
   "cell_type": "code",
   "execution_count": null,
   "id": "ca661e66",
   "metadata": {},
   "outputs": [],
   "source": [
    "equal_samples = sampler.results.samples_equal()\n",
    "d_equal_samples = dsampler.results.samples_equal()"
   ]
  },
  {
   "cell_type": "code",
   "execution_count": null,
   "id": "34c45d5b",
   "metadata": {},
   "outputs": [],
   "source": [
    "corner_kwargs = dict(\n",
    "    hist_kwargs={\"density\": True},\n",
    "    plot_datapoints=False,\n",
    ")\n",
    "fig = corner.corner(\n",
    "    inf_data,\n",
    "    var_names=labels,\n",
    "    show_titles=True,\n",
    "    truths=truths,\n",
    "    color=\"k\",\n",
    "    **corner_kwargs,\n",
    ")\n",
    "corner.corner(equal_samples, labels=labels, color=\"b\", fig=fig, **corner_kwargs)\n",
    "corner.corner(d_equal_samples, labels=labels, color=\"r\", fig=fig, **corner_kwargs)\n",
    "plt.show()\n",
    "\n",
    "\n",
    "# TODO: Example with ultranest\n",
    "# TODO: Example with multinest\n",
    "# TODO: Example with zeus\n",
    "# TODO: Example with blackjax?"
   ]
  }
 ],
 "metadata": {
  "jupytext": {
   "cell_metadata_filter": "-all",
   "main_language": "python",
   "notebook_metadata_filter": "-all"
  }
 },
 "nbformat": 4,
 "nbformat_minor": 5
}
