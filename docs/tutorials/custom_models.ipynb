{
 "cells": [
  {
   "cell_type": "markdown",
   "id": "84d704f5",
   "metadata": {},
   "source": [
    "# Custom models with `simple`\n",
    "\n",
    "The easiest way to create a `simple` model is to simply call `simple.Model` with your custom likelihood function.\n",
    "However, there are many cases where one could want a model with custom methods, pre-defined parameters, etc.\n",
    "This can be done through custom model classes.\n",
    "\n",
    "To demonstrate this, we re-implement the celerite model from the [Gaussian Processes tutorial](./gaussian_processes.ipynb) using a custom class."
   ]
  },
  {
   "cell_type": "code",
   "execution_count": 1,
   "id": "f68513e3",
   "metadata": {
    "execution": {
     "iopub.execute_input": "2025-06-25T00:42:38.819752Z",
     "iopub.status.busy": "2025-06-25T00:42:38.819316Z",
     "iopub.status.idle": "2025-06-25T00:42:38.867488Z",
     "shell.execute_reply": "2025-06-25T00:42:38.867028Z"
    }
   },
   "outputs": [],
   "source": [
    "import numpy as np\n",
    "from celerite2 import GaussianProcess, terms\n",
    "\n",
    "from simple import Model\n",
    "\n",
    "\n",
    "class CustomModel(Model):\n",
    "    def __init__(self, parameters, t, y, yerr, initial_parameters: dict | None):\n",
    "        super().__init__(parameters, self._log_likelihood)\n",
    "        self.t = t\n",
    "        self.y = y\n",
    "        self.yerr = yerr\n",
    "\n",
    "        if initial_parameters is None:\n",
    "            initial_parameters = self.get_prior_samples(1)\n",
    "        self.gp = GaussianProcess(self.get_kernel(initial_parameters))\n",
    "        self.gp.compute(self.t, yerr=self.yerr)\n",
    "\n",
    "    def get_kernel(self, params: dict):\n",
    "        return terms.SHOTerm(\n",
    "            sigma=params[\"sigma_per\"], rho=params[\"rho_per\"], tau=params[\"tau_per\"]\n",
    "        ) + terms.SHOTerm(sigma=params[\"sigma_non\"], rho=params[\"rho_non\"], Q=0.25)\n",
    "\n",
    "    def set_params(self, params: dict):\n",
    "        self.gp.mean = params[\"mean\"]\n",
    "        self.gp.kernel = self.get_kernel(params)\n",
    "        self.gp.compute(self.t, diag=self.yerr**2 + params[\"sigma2\"], quiet=True)\n",
    "        return self.gp\n",
    "\n",
    "    def _log_likelihood(self, parameters: dict) -> float:\n",
    "        self.gp = self.set_params(parameters)\n",
    "        return self.gp.log_likelihood(self.y)"
   ]
  },
  {
   "cell_type": "code",
   "execution_count": 2,
   "id": "c739e214",
   "metadata": {
    "execution": {
     "iopub.execute_input": "2025-06-25T00:42:38.869281Z",
     "iopub.status.busy": "2025-06-25T00:42:38.868941Z",
     "iopub.status.idle": "2025-06-25T00:42:38.875482Z",
     "shell.execute_reply": "2025-06-25T00:42:38.875005Z"
    }
   },
   "outputs": [],
   "source": [
    "t = np.sort(\n",
    "    np.append(\n",
    "        np.random.uniform(0, 3.8, 57),\n",
    "        np.random.uniform(5.5, 10, 68),\n",
    "    )\n",
    ")  # The input coordinates must be sorted\n",
    "yerr = np.random.uniform(0.08, 0.22, len(t))\n",
    "y = 0.2 * (t - 5) + np.sin(3 * t + 0.1 * (t - 5) ** 2) + yerr * np.random.randn(len(t))"
   ]
  },
  {
   "cell_type": "code",
   "execution_count": 3,
   "id": "a322f4bf",
   "metadata": {
    "execution": {
     "iopub.execute_input": "2025-06-25T00:42:38.877222Z",
     "iopub.status.busy": "2025-06-25T00:42:38.876884Z",
     "iopub.status.idle": "2025-06-25T00:42:39.146926Z",
     "shell.execute_reply": "2025-06-25T00:42:39.146525Z"
    }
   },
   "outputs": [
    {
     "data": {
      "text/plain": [
       "np.float64(-19.784859422234867)"
      ]
     },
     "execution_count": 3,
     "metadata": {},
     "output_type": "execute_result"
    }
   ],
   "source": [
    "from scipy.stats import norm\n",
    "\n",
    "from simple.distributions import ScipyDistribution\n",
    "\n",
    "prior_dist = norm(0, 2)\n",
    "parameters = {\n",
    "    \"mean\": ScipyDistribution(prior_dist),\n",
    "    \"sigma_per\": ScipyDistribution(prior_dist),\n",
    "    \"rho_per\": ScipyDistribution(prior_dist),\n",
    "    \"tau_per\": ScipyDistribution(prior_dist),\n",
    "    \"sigma_non\": ScipyDistribution(prior_dist),\n",
    "    \"rho_non\": ScipyDistribution(prior_dist),\n",
    "    \"sigma2\": ScipyDistribution(prior_dist),\n",
    "}\n",
    "initial_params = [0.0, 1.0, 1.0, 10.0, 1.0, 5.0, 0.01]\n",
    "model = CustomModel(\n",
    "    parameters,\n",
    "    t,\n",
    "    y,\n",
    "    yerr,\n",
    "    initial_parameters=dict(zip(parameters.keys(), initial_params, strict=False)),\n",
    ")\n",
    "model.log_likelihood(initial_params)"
   ]
  }
 ],
 "metadata": {
  "kernelspec": {
   "display_name": "Python 3",
   "language": "python",
   "name": "python3"
  },
  "language_info": {
   "codemirror_mode": {
    "name": "ipython",
    "version": 3
   },
   "file_extension": ".py",
   "mimetype": "text/x-python",
   "name": "python",
   "nbconvert_exporter": "python",
   "pygments_lexer": "ipython3",
   "version": "3.13.5"
  }
 },
 "nbformat": 4,
 "nbformat_minor": 5
}
