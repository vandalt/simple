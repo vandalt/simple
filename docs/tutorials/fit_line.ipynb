{
 "cells": [
  {
   "cell_type": "markdown",
   "id": "d72fa579",
   "metadata": {},
   "source": [
    "---\n",
    "title: Fitting a line\n",
    "jupyter:\n",
    "  jupytext:\n",
    "    text_representation:\n",
    "      extension: .qmd\n",
    "      format_name: quarto\n",
    "      format_version: '1.0'\n",
    "      jupytext_version: 1.17.2\n",
    "  kernelspec:\n",
    "    display_name: Python 3\n",
    "    language: python\n",
    "    name: python3\n",
    "---\n",
    "\n",
    "The [Getting started](./getting-started.ipynb) shows how to sample a 3D gaussian with `simple`.\n",
    "In this tutorial, we will build on this to demonstrate a more realistic scenario where we fit a line to data.\n",
    "\n",
    "## Simulated data"
   ]
  },
  {
   "cell_type": "code",
   "execution_count": null,
   "id": "e20604b2",
   "metadata": {},
   "outputs": [],
   "source": [
    "import numpy as np\n",
    "import matplotlib.pyplot as plt\n",
    "from scipy.stats import loguniform\n",
    "\n",
    "rng = np.random.default_rng(123)\n",
    "\n",
    "x = np.sort(10 * rng.random(100))\n",
    "m_true = 1.338\n",
    "b_true = -0.45\n",
    "truths = {\"m\": m_true, \"b\": b_true, \"sigma\": None}\n",
    "y_true = m_true * x + b_true\n",
    "yerr = 0.1 + 0.5 * rng.random(x.size)\n",
    "y = y_true + 2 * yerr * rng.normal(size=x.size)\n",
    "\n",
    "ax = plt.gca()\n",
    "ax.plot(x, y_true, label=\"True signal\")\n",
    "ax.errorbar(x, y, yerr=yerr, fmt=\"k.\", capsize=2, label=\"Simulated data\")\n",
    "ax.set_ylabel(\"y\")\n",
    "ax.set_xlabel(\"x\")\n",
    "plt.legend()\n",
    "plt.show()"
   ]
  },
  {
   "cell_type": "markdown",
   "id": "a5df0b1d",
   "metadata": {},
   "source": [
    "## Linear model\n",
    "\n",
    "In the [getting started](./getting-started.ipynb) tutorial, we did not have a forward model: the likelihood was directly specified as a distribution.\n",
    "In most physical scenarios, we have some sort of forward model, which is then called by our likelihood.\n",
    "Let's define these two functions."
   ]
  },
  {
   "cell_type": "code",
   "execution_count": null,
   "id": "df5e1ccf",
   "metadata": {},
   "outputs": [],
   "source": [
    "def forward_model(parameters, x):\n",
    "    m, b = parameters[\"m\"], parameters[\"b\"]\n",
    "    return m * x + b\n",
    "\n",
    "def log_likelihood(parameters, x, y, yerr):\n",
    "    mu = forward_model(parameters, x)\n",
    "    sigma = np.sqrt(parameters[\"sigma\"]**2 + yerr**2)\n",
    "    return -0.5 * np.sum(((y - mu) / sigma) ** 2 + np.log(2 * np.pi * sigma**2))"
   ]
  },
  {
   "cell_type": "markdown",
   "id": "21610234",
   "metadata": {},
   "source": [
    "We can use the log-likelihood to create a `simple` model.\n",
    "We can optionally pass the forward model so that the `Model` object is aware of it.\n",
    "This allows you to pass a vector or a dictionary, and to easily generate predictive samples."
   ]
  },
  {
   "cell_type": "code",
   "execution_count": null,
   "id": "99089983",
   "metadata": {},
   "outputs": [],
   "source": [
    "from scipy.stats import uniform, norm\n",
    "from simple.distributions import ScipyDistribution\n",
    "# TODO: Replace with cleaner import once no longer need to reload\n",
    "from importlib import reload\n",
    "import simple.model as sm\n",
    "reload(sm)\n",
    "\n",
    "parameters = {\n",
    "    \"m\": ScipyDistribution(uniform(-10, 20)),\n",
    "    \"b\": ScipyDistribution(uniform(-10, 20)),\n",
    "    \"sigma\": ScipyDistribution(loguniform(1e-5, 100)),\n",
    "}\n",
    "\n",
    "model = sm.Model(parameters, log_likelihood)"
   ]
  },
  {
   "cell_type": "markdown",
   "id": "722bcce8",
   "metadata": {},
   "source": [
    "And we can check that the model works as expected."
   ]
  },
  {
   "cell_type": "code",
   "execution_count": null,
   "id": "f4671581",
   "metadata": {},
   "outputs": [],
   "source": [
    "test_point = {\"m\": 1.0, \"b\": 0, \"sigma\": 1.0}\n",
    "print(\"Log prior\", model.log_prior(test_point))\n",
    "print(\"Log likelihood\", model.log_likelihood(test_point, x, y, yerr))\n",
    "print(\"Log probability\", model.log_prob(test_point, x, y, yerr))"
   ]
  },
  {
   "cell_type": "code",
   "execution_count": null,
   "id": "e96dc3a2",
   "metadata": {},
   "outputs": [],
   "source": [
    "ax = plt.gca()\n",
    "ax.plot(x, y_true, label=\"True signal\")\n",
    "ax.plot(x, forward_model(test_point, x), label=\"Test model\")\n",
    "ax.errorbar(x, y, yerr=yerr, fmt=\"k.\", capsize=2, label=\"Simulated data\")\n",
    "ax.set_ylabel(\"y\")\n",
    "ax.set_xlabel(\"x\")\n",
    "plt.legend()\n",
    "plt.show()"
   ]
  },
  {
   "cell_type": "markdown",
   "id": "fcf4ac06",
   "metadata": {},
   "source": [
    "## Prior checks"
   ]
  },
  {
   "cell_type": "code",
   "execution_count": null,
   "id": "957a57ce",
   "metadata": {},
   "outputs": [],
   "source": [
    "import corner\n",
    "\n",
    "n_prior = 1000\n",
    "prior_samples = model.get_prior_samples(n_prior)\n",
    "\n",
    "fig = corner.corner(prior_samples)\n",
    "fig.suptitle(\"Prior samples\")\n",
    "plt.show()"
   ]
  },
  {
   "cell_type": "code",
   "execution_count": null,
   "id": "ceb16b49",
   "metadata": {},
   "outputs": [],
   "source": [
    "n_pred = 100\n",
    "rng = np.random.default_rng()\n",
    "show_idx = rng.choice(n_prior, n_pred, replace=False)\n",
    "ax = plt.gca()\n",
    "for i in show_idx:\n",
    "    ypred = forward_model({k: prior_samples[k][i] for k in model.keys()}, x)\n",
    "    ax.plot(x, ypred, \"C1-\", label=\"Prior samples\" if i == show_idx[0] else None, alpha=0.1)\n",
    "ax.plot(x, y_true, label=\"True signal\")\n",
    "ax.errorbar(x, y, yerr=yerr, fmt=\"k.\", capsize=2, label=\"Simulated data\")\n",
    "ax.set_ylabel(\"y\")\n",
    "ax.set_xlabel(\"x\")\n",
    "ax.set_title(\"Prior predictive samples\")\n",
    "plt.legend()\n",
    "plt.show()"
   ]
  },
  {
   "cell_type": "markdown",
   "id": "ce3f0c11",
   "metadata": {},
   "source": [
    "## Sampling"
   ]
  },
  {
   "cell_type": "code",
   "execution_count": null,
   "id": "e9096895",
   "metadata": {},
   "outputs": [],
   "source": [
    "import zeus\n",
    "\n",
    "nwalkers = 100\n",
    "nsteps = 1000\n",
    "ndim = len(model.keys())\n",
    "start = np.array([0.0, 0.0, 10.0]) + rng.standard_normal(size=(nwalkers, ndim))\n",
    "sampler = zeus.EnsembleSampler(nwalkers, ndim, model.log_prob, args=(x, y, yerr))\n",
    "sampler.run_mcmc(start, nsteps)"
   ]
  },
  {
   "cell_type": "markdown",
   "id": "30d97df0",
   "metadata": {},
   "source": [
    "## Posterior distribution and predictions"
   ]
  },
  {
   "cell_type": "code",
   "execution_count": null,
   "id": "0fd2d73e",
   "metadata": {},
   "outputs": [],
   "source": [
    "from simple.plot import chainplot\n",
    "\n",
    "chains = sampler.get_chain()\n",
    "chainplot(chains, labels=model.keys())\n",
    "plt.show()"
   ]
  },
  {
   "cell_type": "code",
   "execution_count": null,
   "id": "ee061881",
   "metadata": {},
   "outputs": [],
   "source": [
    "flat_chains = sampler.get_chain(discard=200, flat=True, thin=5)\n",
    "corner.corner(\n",
    "    flat_chains,\n",
    "    labels=model.keys(),\n",
    "    truths=list(truths.values()),\n",
    ")\n",
    "plt.show()"
   ]
  },
  {
   "cell_type": "code",
   "execution_count": null,
   "id": "06228df9",
   "metadata": {},
   "outputs": [],
   "source": [
    "n_pred = 100\n",
    "rng = np.random.default_rng()\n",
    "show_idx = rng.choice(flat_chains.shape[0], n_pred, replace=False)\n",
    "ax = plt.gca()\n",
    "for i in show_idx:\n",
    "    ypred = forward_model(dict(zip(model.keys(), flat_chains[i],strict=True)), x)\n",
    "    ax.plot(x, ypred, \"C1-\", label=\"Posterior samples\" if i == show_idx[0] else None, alpha=0.1)\n",
    "ax.plot(x, y_true, label=\"True signal\")\n",
    "ax.errorbar(x, y, yerr=yerr, fmt=\"k.\", capsize=2, label=\"Simulated data\")\n",
    "ax.set_ylabel(\"y\")\n",
    "ax.set_xlabel(\"x\")\n",
    "ax.set_title(\"Posterior predictive samples\")\n",
    "plt.legend()\n",
    "plt.show()"
   ]
  }
 ],
 "metadata": {
  "kernelspec": {
   "display_name": "Python 3",
   "language": "python",
   "name": "python3"
  }
 },
 "nbformat": 4,
 "nbformat_minor": 5
}
